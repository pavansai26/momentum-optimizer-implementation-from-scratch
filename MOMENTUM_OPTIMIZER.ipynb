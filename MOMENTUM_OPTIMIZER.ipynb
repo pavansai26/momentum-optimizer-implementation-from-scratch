{
  "nbformat": 4,
  "nbformat_minor": 0,
  "metadata": {
    "colab": {
      "name": "MOMENTUM OPTIMIZER.ipynb",
      "provenance": [],
      "private_outputs": true,
      "authorship_tag": "ABX9TyMK+8XNC9dygML5MNIB3nvs",
      "include_colab_link": true
    },
    "kernelspec": {
      "name": "python3",
      "display_name": "Python 3"
    }
  },
  "cells": [
    {
      "cell_type": "markdown",
      "metadata": {
        "id": "view-in-github",
        "colab_type": "text"
      },
      "source": [
        "<a href=\"https://colab.research.google.com/github/pavansai26/momentum-optimizer-implementation-from-scratch/blob/master/MOMENTUM_OPTIMIZER.ipynb\" target=\"_parent\"><img src=\"https://colab.research.google.com/assets/colab-badge.svg\" alt=\"Open In Colab\"/></a>"
      ]
    },
    {
      "cell_type": "code",
      "metadata": {
        "id": "2SZaNeZvX_e3",
        "colab_type": "code",
        "colab": {}
      },
      "source": [
        ""
      ],
      "execution_count": null,
      "outputs": []
    },
    {
      "cell_type": "markdown",
      "metadata": {
        "id": "FCrO3oqOZViK",
        "colab_type": "text"
      },
      "source": [
        "# momentum\n"
      ]
    },
    {
      "cell_type": "markdown",
      "metadata": {
        "id": "HjJQ7OPxZajw",
        "colab_type": "text"
      },
      "source": [
        "$$\\begin{align}\n",
        "\\mathbf{v}_{t+1} &amp;= \\gamma \\mathbf{v}_{t} + \\frac{\\partial \\mathcal{L}(\\mathbf{w}_{t})}{\\partial \\mathbf{w}_{t}}\\\\\n",
        "\\mathbf{w}_{t+1} &amp;= \\mathbf{w}_{t} - \\eta \\mathbf{v}_{t+1}\\\\\n",
        "\\end{align}$$"
      ]
    },
    {
      "cell_type": "markdown",
      "metadata": {
        "id": "NNX3dheGZa0B",
        "colab_type": "text"
      },
      "source": [
        "Another formulation"
      ]
    },
    {
      "cell_type": "markdown",
      "metadata": {
        "id": "w8iXm9mKZbbm",
        "colab_type": "text"
      },
      "source": [
        "$$\\begin{align}\n",
        "\\mathbf{v}_{t+1} &amp;= \\gamma \\mathbf{v}_{t} - \\eta \\frac{\\partial \\mathcal{L}(\\mathbf{w}_{t})}{\\partial \\mathbf{w}_{t}}\\\\\n",
        "\\mathbf{w}_{t+1} &amp;= \\mathbf{w}_{t} + \\mathbf{v}_{t+1}\\\\\n",
        "\\end{align}$$"
      ]
    },
    {
      "cell_type": "markdown",
      "metadata": {
        "id": "F4zAhahwZbVQ",
        "colab_type": "text"
      },
      "source": [
        "Two equations seem to be very differnt, but $\\mathbf{w}_{t}$ calculated by each update method are the same."
      ]
    },
    {
      "cell_type": "markdown",
      "metadata": {
        "id": "08Fn03kLZbQb",
        "colab_type": "text"
      },
      "source": [
        "importing the necessary libraries"
      ]
    },
    {
      "cell_type": "code",
      "metadata": {
        "id": "bTIbRTmDZZWE",
        "colab_type": "code",
        "colab": {}
      },
      "source": [
        "from __future__ import absolute_import\n",
        "from __future__ import division\n",
        "from __future__ import print_function\n",
        "\n",
        "import os\n",
        "import time\n",
        "\n",
        "import numpy as np"
      ],
      "execution_count": null,
      "outputs": []
    },
    {
      "cell_type": "markdown",
      "metadata": {
        "id": "YCVYbBdGbBzS",
        "colab_type": "text"
      },
      "source": [
        "function"
      ]
    },
    {
      "cell_type": "markdown",
      "metadata": {
        "id": "1DtREDEBbJVB",
        "colab_type": "text"
      },
      "source": [
        "$$ f(x, y) = (1.5 - x + xy)^{2} + (2.25 - x + xy^{2})^{2} + (2.625 - x +xy^{3})^{2}$$"
      ]
    },
    {
      "cell_type": "markdown",
      "metadata": {
        "id": "s6VXhTdLbOST",
        "colab_type": "text"
      },
      "source": [
        "function implementation using python"
      ]
    },
    {
      "cell_type": "code",
      "metadata": {
        "id": "XacMoPVAa9qN",
        "colab_type": "code",
        "colab": {}
      },
      "source": [
        "f = lambda x, y: (1.5 - x + x*y)**2 + (2.25 - x + x*y**2)**2 + (2.625 - x + x*y**3)**2"
      ],
      "execution_count": null,
      "outputs": []
    },
    {
      "cell_type": "code",
      "metadata": {
        "id": "G4c4P3zCbc41",
        "colab_type": "code",
        "colab": {}
      },
      "source": [
        "def gradients(x, y):\n",
        "  \"\"\"Gradient of Beale function.\n",
        "\n",
        "  Args:\n",
        "    x: x-dimension of inputs\n",
        "    y: y-dimension of inputs\n",
        "\n",
        "  Returns:\n",
        "    grads: [dx, dy], shape: 1-rank Tensor (vector) np.array\n",
        "      dx: gradient of Beale function with respect to x-dimension of inputs\n",
        "      dy: gradient of Beale function with respect to y-dimension of inputs\n",
        "  \"\"\"\n",
        "  dx = 2. * ( (1.5 - x + x * y) * (y - 1) + \\\n",
        "                (2.25 - x + x * y**2) * (y**2 - 1) + \\\n",
        "                (2.625 - x + x * y**3) * (y**3 - 1) )\n",
        "  dy = 2. * ( (1.5 - x + x * y) * x + \\\n",
        "              (2.25 - x + x * y**2) * 2. * x * y + \\\n",
        "              (2.625 - x + x * y**3) * 3. * x * y**2 )\n",
        "  grads = np.array([dx, dy])\n",
        "  return grads"
      ],
      "execution_count": null,
      "outputs": []
    },
    {
      "cell_type": "markdown",
      "metadata": {
        "id": "jvOih71wcwME",
        "colab_type": "text"
      },
      "source": [
        "optimizer implementation"
      ]
    },
    {
      "cell_type": "code",
      "metadata": {
        "id": "O6tbpI53bovO",
        "colab_type": "code",
        "colab": {}
      },
      "source": [
        "class MomentumOptimizer():\n",
        "  def __init__(self, function, gradients, x_init=None, y_init=None, learning_rate=0.01, momentum=0.9):\n",
        "    self.f = function\n",
        "    self.g = gradients\n",
        "    scale = 3.0\n",
        "    self.vars = np.zeros([2])\n",
        "\n",
        "    if x_init is not None:\n",
        "      self.vars[0] = x_init\n",
        "    else:\n",
        "      self.vars[0] = np.random.uniform(low=-scale, high=scale)\n",
        "    \n",
        "    if y_init is not None:\n",
        "      self.vars[1] = y_init\n",
        "    else:\n",
        "      self.vars[1] = np.random.uniform(low=-scale, high=scale)\n",
        "\n",
        "    print(\"x_init: {:.3f}\".format(self.vars[0]))\n",
        "    print(\"y_init: {:.3f}\".format(self.vars[1]))\n",
        "\n",
        "    self.lr = learning_rate\n",
        "    self.momentum = momentum\n",
        "    self.velocity = np.zeros([2])\n",
        "    \n",
        "    # for accumulation of loss and path (w, b)\n",
        "    self.z_history = []\n",
        "    self.x_history = []\n",
        "    self.y_history = []\n",
        "\n",
        "    def func(self, variables):\n",
        "    #Beale function.  \n",
        "      #Args:\n",
        "        #variables: input data, shape: 1-rank Tensor (vector) np.array\n",
        "        #x: x-dimension of inputs\n",
        "        #y: y-dimension of inputs\n",
        "        #Returns: \n",
        "      #z: Beale function value at (x, y)\"\"\"\n",
        "      x, y = variables\n",
        "      z = self.f(x, y)\n",
        "      return z\n",
        "\n",
        "    def gradients(self, variables):\n",
        "    #Gradient of Beale function.\n",
        "    \n",
        "    #Args:\n",
        "      #variables: input data, shape: 1-rank Tensor (vector) np.array\n",
        "        #x: x-dimension of inputs\n",
        "        #y: y-dimension of inputs\n",
        "      \n",
        "    #Returns:\n",
        "      #grads: [dx, dy], shape: 1-rank Tensor (vector) np.array\n",
        "        #dx: gradient of Beale function with respect to x-dimension of inputs\n",
        "        #dy: gradient of Beale function with respect to y-dimension of inputs\n",
        "\n",
        "      x, y = variables\n",
        "      grads = self.g(x, y)\n",
        "      return grads\n",
        "\n",
        "    def weights_update(self, grads):\n",
        "    #Weights update using Momentum.\n",
        "    \n",
        "      #v' = gamma * v + dL/dw\n",
        "      #w' = w - lr * v' \n",
        "      self.velocity = self.momentum * self.velocity + grads\n",
        "      self.vars = self.vars - self.lr * self.velocity\n",
        "\n",
        "    def weights_update1(self, grads):\n",
        "    #Weights update using Momentum.\n",
        "    \n",
        "      #v' = gamma * v - lr * dL/dw\n",
        "      #w' = w + v'\n",
        "      self.velocity = self.momentum * self.velocity - self.lr * grads\n",
        "      self.vars = self.vars + self.velocity\n",
        "    \n",
        "    def history_update(self, z, x, y):\n",
        "    #Accumulate all interesting variables\n",
        "      self.z_history.append(z)\n",
        "      self.x_history.append(x)\n",
        "      self.y_history.append(y)\n",
        "\n",
        "    def train(self, max_steps):\n",
        "      pre_z = 0.0\n",
        "      print(\"steps: {}  z: {:.6f}  x: {:.5f}  y: {:.5f}\".format(0, self.func(self.vars), self.x, self.y))\n",
        "    \n",
        "      file = open('momentum.txt', 'w')\n",
        "      file.write(\"{:.5f}  {:.5f}\\n\".format(self.x, self.y))\n",
        "\n",
        "      for step in range(max_steps):\n",
        "        self.z = self.func(self.vars)\n",
        "        self.history_update(self.z, self.x, self.y)\n",
        "\n",
        "        self.grads = self.gradients(self.vars)\n",
        "        self.weights_update1(self.grads)\n",
        "\n",
        "        file.write(\"{:.5f}  {:.5f}\\n\".format(self.x, self.y))\n",
        "      \n",
        "        if (step+1) % 100 == 0:\n",
        "          print(\"steps: {}  z: {:.6f}  x: {:.5f}  y: {:.5f}  dx: {:.5f}  dy: {:.5f}\".format(step+1, self.func(self.vars), self.x, self.y, self.dx, self.dy))\n",
        "      \n",
        "        if np.abs(pre_z - self.z) < 1e-7:\n",
        "          print(\"Enough convergence\")\n",
        "          print(\"steps: {}  z: {:.6f}  x: {:.5f}  y: {:.5f}\".format(step+1, self.func(self.vars), self.x, self.y))\n",
        "          self.z = self.func(self.vars)\n",
        "          self.history_update(self.z, self.x, self.y)\n",
        "          break\n",
        "        pre_z = self.z\n",
        "      file.close()\n",
        "      self.x_history = np.array(self.x_history)\n",
        "      self.y_history = np.array(self.y_history)\n",
        "      self.path = np.concatenate((np.expand_dims(self.x_history, 1), np.expand_dims(self.y_history, 1)), axis=1).T\n",
        "  \n",
        "  @property\n",
        "  def x(self):\n",
        "    return self.vars[0]\n",
        "  \n",
        "  @property\n",
        "  def y(self):\n",
        "    return self.vars[1]\n",
        "  \n",
        "  @property\n",
        "  def dx(self):\n",
        "    return self.grads[0]\n",
        "  \n",
        "  @property\n",
        "  def dy(self):\n",
        "    return self.grads[1]\n",
        "\n",
        "\n",
        "\n"
      ],
      "execution_count": null,
      "outputs": []
    },
    {
      "cell_type": "code",
      "metadata": {
        "id": "IFbNhlzGlWMs",
        "colab_type": "code",
        "colab": {}
      },
      "source": [
        ""
      ],
      "execution_count": null,
      "outputs": []
    }
  ]
}